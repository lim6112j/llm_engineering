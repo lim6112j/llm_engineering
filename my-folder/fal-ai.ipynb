{
 "cells": [
  {
   "cell_type": "code",
   "execution_count": 1,
   "id": "0bda7ea9-ad83-4a27-bf5b-b83f3a52de86",
   "metadata": {},
   "outputs": [],
   "source": [
    "import os\n",
    "from huggingface_hub import InferenceClient\n",
    "from dotenv import load_dotenv\n",
    "load_dotenv()\n",
    "\n",
    "import os\n",
    "client = InferenceClient(\n",
    "    provider=\"fal-ai\",\n",
    "    api_key=os.getenv(\"HF_TOKEN\"),\n",
    ")\n",
    "\n",
    "video = client.text_to_video(\n",
    "    \"A tiny puppy astronaut walking on the moon\",\n",
    "    model=\"tencent/HunyuanVideo\",\n",
    ")"
   ]
  },
  {
   "cell_type": "code",
   "execution_count": 1,
   "id": "c448a23b-a06b-4224-a6bf-ba443dc93c35",
   "metadata": {},
   "outputs": [],
   "source": [
    "import os\n",
    "from huggingface_hub import InferenceClient\n",
    "from dotenv import load_dotenv\n",
    "load_dotenv()\n",
    "client = InferenceClient(\n",
    "    provider=\"fal-ai\",\n",
    "    api_key=os.environ[\"HF_TOKEN\"],\n",
    ")\n",
    "\n",
    "video = client.text_to_video(\n",
    "    \"A little puppy with happy smile on the grass\",\n",
    "    model=\"genmo/mochi-1-preview\",\n",
    ")"
   ]
  },
  {
   "cell_type": "code",
   "execution_count": 2,
   "id": "4c1c65fb-1f0d-4359-ac57-989f1aabdf8b",
   "metadata": {},
   "outputs": [
    {
     "name": "stdout",
     "output_type": "stream",
     "text": [
      "Video saved as 'generated_video.mp4'\n"
     ]
    }
   ],
   "source": [
    "with open(\"walking_puppy_moon_video.mp4\", \"wb\") as f:\n",
    "    f.write(video)\n",
    "print(\"Video saved as 'generated_video.mp4'\")"
   ]
  },
  {
   "cell_type": "code",
   "execution_count": null,
   "id": "7207c1b8-e59c-48e2-aca8-9db09fd22e4f",
   "metadata": {},
   "outputs": [],
   "source": []
  }
 ],
 "metadata": {
  "kernelspec": {
   "display_name": "Python 3 (ipykernel)",
   "language": "python",
   "name": "python3"
  },
  "language_info": {
   "codemirror_mode": {
    "name": "ipython",
    "version": 3
   },
   "file_extension": ".py",
   "mimetype": "text/x-python",
   "name": "python",
   "nbconvert_exporter": "python",
   "pygments_lexer": "ipython3",
   "version": "3.12.10"
  }
 },
 "nbformat": 4,
 "nbformat_minor": 5
}
