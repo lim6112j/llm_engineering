{
 "cells": [
  {
   "cell_type": "code",
   "execution_count": 1,
   "id": "5529ef84-33cf-4fe9-961b-01351e6c37de",
   "metadata": {},
   "outputs": [
    {
     "name": "stdout",
     "output_type": "stream",
     "text": [
      "Loaded as API: https://prithivmlmods-flux-realism.hf.space ✔\n",
      "Image saved at /tmp/gradio/\n"
     ]
    }
   ],
   "source": [
    "                                                                                                                                                   \n",
    "from gradio_client import Client                                                                                                                                                                                                                                                     \n",
    "                                                                                                                                                   \n",
    "client = Client(\"prithivMLmods/FLUX-REALISM\")                                                                                                      \n",
    "result = client.predict(                                                                                                                           \n",
    "           prompt=\"A tiny puppy astronaut hatching from an egg on the moon, 4k, planet theme\",                                                           \n",
    "           seed=0,                                                                                                                                 \n",
    "           width=1024,                                                                                                                             \n",
    "           height=1024,                                                                                                                            \n",
    "           negative_prompt=\"blurry, bad quality, low resolution\",                                                                                  \n",
    "           guidance_scale=6,                                                                                                                       \n",
    "           randomize_seed=True,                                                                                                                    \n",
    "           api_name=\"/run\"                                                                                                                         \n",
    "         )                                                                                                                                         \n",
    "\n",
    "print(\"Image saved at /tmp/gradio/\")                                                                                                                                                        "
   ]
  },
  {
   "cell_type": "code",
   "execution_count": null,
   "id": "25bc6f11-aef6-4ee4-88c1-8938fdcad4ea",
   "metadata": {},
   "outputs": [],
   "source": []
  }
 ],
 "metadata": {
  "kernelspec": {
   "display_name": "Python 3 (ipykernel)",
   "language": "python",
   "name": "python3"
  },
  "language_info": {
   "codemirror_mode": {
    "name": "ipython",
    "version": 3
   },
   "file_extension": ".py",
   "mimetype": "text/x-python",
   "name": "python",
   "nbconvert_exporter": "python",
   "pygments_lexer": "ipython3",
   "version": "3.12.10"
  }
 },
 "nbformat": 4,
 "nbformat_minor": 5
}
